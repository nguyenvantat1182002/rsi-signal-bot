{
 "cells": [
  {
   "cell_type": "code",
   "execution_count": 1,
   "metadata": {},
   "outputs": [],
   "source": [
    "import MetaTrader5 as mt5\n",
    "import pandas as pd\n",
    "import pandas_ta as ta\n",
    "import mplfinance as mpf\n",
    "\n",
    "from typing import List, Optional"
   ]
  },
  {
   "cell_type": "code",
   "execution_count": 2,
   "metadata": {},
   "outputs": [
    {
     "data": {
      "text/plain": [
       "True"
      ]
     },
     "execution_count": 2,
     "metadata": {},
     "output_type": "execute_result"
    }
   ],
   "source": [
    "mt5.initialize()"
   ]
  },
  {
   "cell_type": "code",
   "execution_count": 3,
   "metadata": {},
   "outputs": [],
   "source": [
    "def get_highest_pivot_bar(df: pd.DataFrame, pivot_bar: pd.Series, window_size: int = 2) -> pd.Series:\n",
    "    left_bars = df[df['time'] < pivot_bar['time']].tail(window_size)\n",
    "    right_bars = df[df['time'] > pivot_bar['time']].head(window_size)\n",
    "\n",
    "    merged_df = pd.concat([left_bars, right_bars])\n",
    "    highest_bar = merged_df.nlargest(1, 'high')\n",
    "    highest_bar = highest_bar.iloc[-1]\n",
    "\n",
    "    return pivot_bar if highest_bar['high'] < pivot_bar['high'] else highest_bar\n",
    "\n",
    "def get_lowest_pivot_bar(df: pd.DataFrame, pivot_bar: pd.Series, window_size: int = 2) -> pd.Series:\n",
    "    left_bars = df[df['time'] < pivot_bar['time']].tail(window_size)\n",
    "    right_bars = df[df['time'] > pivot_bar['time']].head(window_size)\n",
    "    \n",
    "    merged_df = pd.concat([left_bars, right_bars])\n",
    "    lowest_bar = merged_df.nsmallest(1, 'low')\n",
    "    lowest_bar = lowest_bar.iloc[-1]\n",
    "\n",
    "    return pivot_bar if lowest_bar['low'] > pivot_bar['low'] else lowest_bar\n",
    "\n",
    "def is_bearish_divergence(df: pd.DataFrame, current_pivot_high: pd.Series) -> Optional[pd.Series]:\n",
    "    nearest_rsi_pivot_high = df[(df['rsi_pivot_high']) & (df['time'] < current_pivot_high['time']) & (df['rsi'] > current_pivot_high['rsi'])]\n",
    "        \n",
    "    if not nearest_rsi_pivot_high.empty:\n",
    "        nearest_rsi_pivot_high = nearest_rsi_pivot_high.iloc[-1]\n",
    "        \n",
    "        if nearest_rsi_pivot_high['rsi'] > 60:\n",
    "            current_pivot_high = get_highest_pivot_bar(df, current_pivot_high)\n",
    "            nearest_pivot_high_candle = get_highest_pivot_bar(df, nearest_rsi_pivot_high)\n",
    "            \n",
    "            if current_pivot_high['high'] > nearest_pivot_high_candle['high']:\n",
    "                return nearest_rsi_pivot_high\n",
    "    \n",
    "    return None\n",
    "\n",
    "def is_bullish_divergence(df: pd.DataFrame, current_pivot_low: pd.Series) -> Optional[pd.Series]:\n",
    "    nearest_rsi_pivot_low = df[(df['rsi_pivot_low']) & (df['time'] < current_pivot_low['time']) & (df['rsi'] < current_pivot_low['rsi'])]\n",
    "    if not nearest_rsi_pivot_low.empty:\n",
    "        nearest_rsi_pivot_low = nearest_rsi_pivot_low.iloc[-1]\n",
    "\n",
    "        if nearest_rsi_pivot_low['rsi'] < 40:\n",
    "            current_pivot_low = get_lowest_pivot_bar(df, current_pivot_low)\n",
    "            nearest_pivot_low_candle = get_lowest_pivot_bar(df, nearest_rsi_pivot_low)\n",
    "\n",
    "            if current_pivot_low['low'] < nearest_pivot_low_candle['low']:\n",
    "                return nearest_rsi_pivot_low\n",
    "            \n",
    "    return None\n",
    "    \n",
    "def detect_divergence(df: pd.DataFrame):\n",
    "    price_lines = []\n",
    "    rsi_lines = []\n",
    "    \n",
    "    for _, current_candle in df.iterrows():\n",
    "        if current_candle['rsi_pivot_low']:\n",
    "            bullish_divergence_point = is_bullish_divergence(df, current_candle)\n",
    "            if bullish_divergence_point is not None:\n",
    "                rsi_lines.append([\n",
    "                    (bullish_divergence_point['time'], bullish_divergence_point['rsi']),\n",
    "                    (current_candle['time'], current_candle['rsi'])\n",
    "                ])\n",
    "                \n",
    "                current_candle = get_lowest_pivot_bar(df, current_candle, 3)\n",
    "                nearest_pivot_low_candle = get_lowest_pivot_bar(df, bullish_divergence_point, 3)\n",
    "                price_lines.append([\n",
    "                    (nearest_pivot_low_candle['time'], nearest_pivot_low_candle['low']),\n",
    "                    (current_candle['time'], current_candle['low'])\n",
    "                ])\n",
    "\n",
    "        if current_candle['rsi_pivot_high']:\n",
    "            bearish_divergence_point = is_bearish_divergence(df, current_candle)\n",
    "            if bearish_divergence_point is not None:\n",
    "                rsi_lines.append([\n",
    "                    (bearish_divergence_point['time'], bearish_divergence_point['rsi']),\n",
    "                    (current_candle['time'], current_candle['rsi'])\n",
    "                ])\n",
    "\n",
    "                current_candle = get_highest_pivot_bar(df, current_candle, 3)\n",
    "                nearest_pivot_high_candle = get_highest_pivot_bar(df, bearish_divergence_point, 3)\n",
    "                price_lines.append([\n",
    "                    (nearest_pivot_high_candle['time'], nearest_pivot_high_candle['high']),\n",
    "                    (current_candle['time'], current_candle['high'])\n",
    "                ])\n",
    "\n",
    "    return price_lines, rsi_lines"
   ]
  },
  {
   "cell_type": "code",
   "execution_count": 10,
   "metadata": {},
   "outputs": [],
   "source": [
    "rates = mt5.copy_rates_from_pos('XAUUSD', mt5.TIMEFRAME_M5, 2004, 1000)\n",
    "\n",
    "df = pd.DataFrame(rates)\n",
    "df['time'] = pd.to_datetime(df['time'], unit='s')\n",
    "\n",
    "# bb = ta.bbands(df['close'], 20, 2)\n",
    "\n",
    "# df['bb_l'] = bb.iloc[:,0]\n",
    "# df['bb_u'] = bb.iloc[:,2]\n",
    "\n",
    "# df['position'] = (df['close'] - df['bb_l']) / (df['bb_u'] - df['bb_l'])\n",
    "\n",
    "# df.tail(40)"
   ]
  },
  {
   "cell_type": "code",
   "execution_count": 11,
   "metadata": {},
   "outputs": [],
   "source": [
    "\n",
    "df['rsi'] = ta.rsi(df['close'], 14)\n",
    "df['atr'] = ta.atr(df['high'], df['low'], df['close'], 14)\n",
    "\n",
    "df.dropna(inplace=True)\n",
    "df.set_index(df['time'], inplace=True)\n",
    "\n",
    "window_size = 5\n",
    "df['rsi_pivot_high'] = df['rsi'] == df['rsi'].rolling(2 * window_size + 1, center=True).max()\n",
    "df['rsi_pivot_low'] = df['rsi'] == df['rsi'].rolling(2 * window_size + 1, center=True).min()\n"
   ]
  },
  {
   "cell_type": "code",
   "execution_count": 12,
   "metadata": {},
   "outputs": [
    {
     "data": {
      "image/png": "[encoded data removed]",
      "text/plain": [
       "<Figure size 800x575 with 4 Axes>"
      ]
     },
     "metadata": {},
     "output_type": "display_data"
    }
   ],
   "source": [
    "df = df.tail(150)\n",
    "price_lines, rsi_lines = detect_divergence(df)\n",
    "\n",
    "plots = [\n",
    "    mpf.make_addplot(df['rsi'], panel=1, color='black', fill_between=dict(y1=30, y2=30, color=\"gray\")),\n",
    "    mpf.make_addplot(df['rsi'], panel=1, color='black', fill_between=dict(y1=70, y2=70, color=\"gray\")),\n",
    "]\n",
    "\n",
    "style = mpf.make_mpf_style(base_mpf_style='yahoo', rc={'grid.alpha':0}, figcolor='#fff', facecolor=\"#fff\")\n",
    "_, axs = mpf.plot(\n",
    "    df,\n",
    "    type='candle',\n",
    "    style=style,\n",
    "    volume=False,\n",
    "    ylabel='',\n",
    "    ylabel_lower='',\n",
    "    addplot=plots,\n",
    "    returnfig=True,\n",
    "    alines=dict(alines=price_lines))\n",
    "\n",
    "rsi_lines = mpf._utils._construct_aline_collections(dict(alines=rsi_lines), df.index)\n",
    "axs[2].add_collection(rsi_lines);"
   ]
  },
  {
   "cell_type": "code",
   "execution_count": 8,
   "metadata": {},
   "outputs": [
    {
     "data": {
      "text/plain": [
       "OrderSendResult(retcode=10009, deal=156569646, order=208562880, volume=0.03, price=63165.37, bid=63165.37, ask=63168.75, comment='', request_id=2384262747, retcode_external=0, request=TradeRequest(action=1, magic=0, order=0, symbol='BTCUSD', volume=0.03, price=63165.37, stoplimit=0.0, sl=64188.99960187674, tp=0.0, deviation=10, type=1, type_filling=0, type_time=0, expiration=0, comment='', position=0, position_by=0))"
      ]
     },
     "execution_count": 8,
     "metadata": {},
     "output_type": "execute_result"
    }
   ],
   "source": [
    "symbol = 'BTCUSD'\n",
    "risk_amount = 30\n",
    "order_type = mt5.ORDER_TYPE_SELL\n",
    "info_tick = mt5.symbol_info_tick(symbol)\n",
    "atr = df['atr'].iloc[-2]\n",
    "\n",
    "entry = 0\n",
    "stop_loss = 0\n",
    "\n",
    "match order_type:\n",
    "    case mt5.ORDER_TYPE_BUY:\n",
    "        entry = info_tick.ask\n",
    "        stop_loss = entry - atr * 5\n",
    "    case mt5.ORDER_TYPE_SELL:\n",
    "        entry = info_tick.bid\n",
    "        stop_loss = entry + atr * 5\n",
    "\n",
    "trade_volume = risk_amount / abs(entry - stop_loss)\n",
    "trade_volume = round(trade_volume, 2)\n",
    "\n",
    "request = {\n",
    "    'action': mt5.TRADE_ACTION_DEAL,\n",
    "    'symbol': symbol,\n",
    "    'deviation': 10,\n",
    "    'type': order_type,\n",
    "    'volume': trade_volume,\n",
    "    'price': entry,\n",
    "    'sl': stop_loss\n",
    "}\n",
    "result = mt5.order_send(request)\n",
    "result"
   ]
  },
  {
   "cell_type": "code",
   "execution_count": 6,
   "metadata": {},
   "outputs": [
    {
     "data": {
      "text/plain": [
       "(TradePosition(ticket=210024869, time=1721231116, time_msc=1721231116001, time_update=1721231116, time_update_msc=1721231116001, type=0, magic=0, identifier=210024869, reason=3, volume=0.2, price_open=1.30034, sl=1.2978100000000001, tp=0.0, price_current=1.30019, swap=0.0, profit=-3.0, symbol='GBPUSD', comment='', external_id=''),)"
      ]
     },
     "execution_count": 6,
     "metadata": {},
     "output_type": "execute_result"
    }
   ],
   "source": [
    "positions = mt5.positions_get(symbol='GBPUSD')\n",
    "positions"
   ]
  },
  {
   "cell_type": "code",
   "execution_count": 7,
   "metadata": {},
   "outputs": [
    {
     "data": {
      "text/plain": [
       "OrderSendResult(retcode=10009, deal=0, order=0, volume=0.2, price=1.30012, bid=1.3001200000000002, ask=1.3001200000000002, comment='', request_id=2384262769, retcode_external=0, request=TradeRequest(action=6, magic=0, order=0, symbol='', volume=0.0, price=0.0, stoplimit=0.0, sl=1.29835, tp=0.0, deviation=0, type=0, type_filling=0, type_time=0, expiration=0, comment='', position=210024869, position_by=0))"
      ]
     },
     "execution_count": 7,
     "metadata": {},
     "output_type": "execute_result"
    }
   ],
   "source": [
    "request = {\n",
    "    'action': mt5.TRADE_ACTION_SLTP,\n",
    "    'position': positions[0].ticket,\n",
    "    'sl': 1.29835,\n",
    "    'commnet': 'test'\n",
    "}\n",
    "result = mt5.order_send(request)\n",
    "result"
   ]
  },
  {
   "cell_type": "code",
   "execution_count": 9,
   "metadata": {},
   "outputs": [
    {
     "data": {
      "text/plain": [
       "OrderSendResult(retcode=10013, deal=0, order=0, volume=0.0, price=0.0, bid=0.0, ask=0.0, comment='Invalid request', request_id=0, retcode_external=0, request=TradeRequest(action=7, magic=0, order=0, symbol='', volume=0.0, price=0.0, stoplimit=0.0, sl=0.0, tp=0.0, deviation=0, type=0, type_filling=0, type_time=0, expiration=0, comment='', position=210024869, position_by=0))"
      ]
     },
     "execution_count": 9,
     "metadata": {},
     "output_type": "execute_result"
    }
   ],
   "source": [
    "request = {\n",
    "    'action': mt5.TRADE_ACTION_MODIFY,\n",
    "    'position': positions[0].ticket,\n",
    "    # 'sl': 1.29835,\n",
    "    'commnet': 'test'\n",
    "}\n",
    "result = mt5.order_send(request)\n",
    "result"
   ]
  }
 ],
 "metadata": {
  "kernelspec": {
   "display_name": "venv",
   "language": "python",
   "name": "python3"
  },
  "language_info": {
   "codemirror_mode": {
    "name": "ipython",
    "version": 3
   },
   "file_extension": ".py",
   "mimetype": "text/x-python",
   "name": "python",
   "nbconvert_exporter": "python",
   "pygments_lexer": "ipython3",
   "version": "3.10.4"
  }
 },
 "nbformat": 4,
 "nbformat_minor": 2
}
