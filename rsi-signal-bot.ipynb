{
 "cells": [
  {
   "cell_type": "code",
   "execution_count": 2,
   "metadata": {},
   "outputs": [],
   "source": [
    "import MetaTrader5 as mt5\n",
    "import pandas as pd\n",
    "import pandas_ta as ta\n",
    "import mplfinance as mpf\n",
    "\n",
    "from typing import List, Optional"
   ]
  },
  {
   "cell_type": "code",
   "execution_count": 3,
   "metadata": {},
   "outputs": [
    {
     "data": {
      "text/plain": [
       "True"
      ]
     },
     "execution_count": 3,
     "metadata": {},
     "output_type": "execute_result"
    }
   ],
   "source": [
    "mt5.initialize()"
   ]
  },
  {
   "cell_type": "code",
   "execution_count": 4,
   "metadata": {},
   "outputs": [
    {
     "data": {
      "text/plain": [
       "(TradePosition(ticket=209576637, time=1721207387, time_msc=1721207387474, time_update=1721207387, time_update_msc=1721207387474, type=1, magic=0, identifier=209576637, reason=3, volume=0.17, price_open=1.3030700000000002, sl=1.30599, tp=0.0, price_current=1.30137, swap=0.0, profit=28.9, symbol='GBPUSD', comment='', external_id=''),\n",
       " TradePosition(ticket=209581148, time=1721207688, time_msc=1721207688241, time_update=1721207688, time_update_msc=1721207688241, type=1, magic=0, identifier=209581148, reason=3, volume=0.31, price_open=0.60865, sl=0.61029, tp=0.0, price_current=0.60726, swap=0.0, profit=43.09, symbol='NZDUSD', comment='', external_id=''),\n",
       " TradePosition(ticket=209743792, time=1721218801, time_msc=1721218801187, time_update=1721218801, time_update_msc=1721218801187, type=0, magic=0, identifier=209743792, reason=3, volume=0.06, price_open=64885.39, sl=64081.78, tp=0.0, price_current=64946.61, swap=0.0, profit=3.68, symbol='BTCUSD', comment='', external_id=''),\n",
       " TradePosition(ticket=209797754, time=1721222404, time_msc=1721222404844, time_update=1721222404, time_update_msc=1721222404844, type=1, magic=0, identifier=209797754, reason=3, volume=0.04, price_open=2473.784, sl=2485.094, tp=0.0, price_current=2467.791, swap=0.0, profit=23.98, symbol='XAUUSD', comment='', external_id=''),\n",
       " TradePosition(ticket=209923289, time=1721226309, time_msc=1721226309587, time_update=1721226309, time_update_msc=1721226309587, type=0, magic=0, identifier=209923289, reason=3, volume=0.26, price_open=0.67322, sl=0.67131, tp=0.0, price_current=0.67279, swap=0.0, profit=-11.18, symbol='AUDUSD', comment='', external_id=''))"
      ]
     },
     "execution_count": 4,
     "metadata": {},
     "output_type": "execute_result"
    }
   ],
   "source": [
    "mt5.positions_get()"
   ]
  },
  {
   "cell_type": "code",
   "execution_count": 32,
   "metadata": {},
   "outputs": [
    {
     "data": {
      "text/plain": [
       "[SymbolInfo(custom=False, chart_mode=0, select=True, visible=True, session_deals=0, session_buy_orders=0, session_sell_orders=0, volume=0, volumehigh=0, volumelow=0, time=1721125214, digits=5, spread=0, spread_float=True, ticks_bookdepth=0, trade_calc_mode=0, trade_mode=4, start_time=0, expiration_time=0, trade_stops_level=0, trade_freeze_level=0, trade_exemode=2, swap_mode=1, swap_rollover3days=3, margin_hedged_use_leg=False, expiration_mode=15, filling_mode=3, order_mode=127, order_gtc_mode=0, option_mode=0, option_right=0, bid=1.09027, bidhigh=1.09042, bidlow=1.08838, ask=1.09027, askhigh=1.09042, asklow=1.08838, last=0.0, lasthigh=0.0, lastlow=0.0, volume_real=0.0, volumehigh_real=0.0, volumelow_real=0.0, option_strike=0.0, point=1e-05, trade_tick_value=1.0, trade_tick_value_profit=1.0, trade_tick_value_loss=1.0, trade_tick_size=1e-05, trade_contract_size=100000.0, trade_accrued_interest=0.0, trade_face_value=0.0, trade_liquidity_rate=0.0, volume_min=0.01, volume_max=200.0, volume_step=0.01, volume_limit=0.0, swap_long=-6.4, swap_short=0.0, margin_initial=0.0, margin_maintenance=0.0, session_volume=0.0, session_turnover=0.0, session_interest=0.0, session_buy_orders_volume=0.0, session_sell_orders_volume=0.0, session_open=1.08984, session_close=1.08983, session_aw=0.0, session_price_settlement=0.0, session_price_limit_min=0.0, session_price_limit_max=0.0, margin_hedged=0.0, price_change=0.0404, price_volatility=0.0, price_theoretical=0.0, price_greeks_delta=0.0, price_greeks_theta=0.0, price_greeks_gamma=0.0, price_greeks_vega=0.0, price_greeks_rho=0.0, price_greeks_omega=0.0, price_sensitivity=0.0, basis='', category='Majors', currency_base='EUR', currency_profit='USD', currency_margin='EUR', bank='', description='Euro vs US Dollar', exchange='', formula='', isin='', name='EURUSD', page='', path='Forex\\\\EURUSD'),\n",
       " SymbolInfo(custom=False, chart_mode=0, select=True, visible=True, session_deals=0, session_buy_orders=0, session_sell_orders=0, volume=0, volumehigh=0, volumelow=0, time=1721125215, digits=5, spread=0, spread_float=True, ticks_bookdepth=0, trade_calc_mode=0, trade_mode=4, start_time=0, expiration_time=0, trade_stops_level=0, trade_freeze_level=0, trade_exemode=2, swap_mode=1, swap_rollover3days=3, margin_hedged_use_leg=False, expiration_mode=15, filling_mode=3, order_mode=127, order_gtc_mode=0, option_mode=0, option_right=0, bid=1.29707, bidhigh=1.29729, bidlow=1.29515, ask=1.29707, askhigh=1.29729, asklow=1.29515, last=0.0, lasthigh=0.0, lastlow=0.0, volume_real=0.0, volumehigh_real=0.0, volumelow_real=0.0, option_strike=0.0, point=1e-05, trade_tick_value=1.0, trade_tick_value_profit=1.0, trade_tick_value_loss=1.0, trade_tick_size=1e-05, trade_contract_size=100000.0, trade_accrued_interest=0.0, trade_face_value=0.0, trade_liquidity_rate=0.0, volume_min=0.01, volume_max=200.0, volume_step=0.01, volume_limit=0.0, swap_long=-2.2, swap_short=-0.6, margin_initial=0.0, margin_maintenance=0.0, session_volume=0.0, session_turnover=0.0, session_interest=0.0, session_buy_orders_volume=0.0, session_sell_orders_volume=0.0, session_open=1.29694, session_close=1.29694, session_aw=0.0, session_price_settlement=0.0, session_price_limit_min=0.0, session_price_limit_max=0.0, margin_hedged=0.0, price_change=0.01, price_volatility=0.0, price_theoretical=0.0, price_greeks_delta=0.0, price_greeks_theta=0.0, price_greeks_gamma=0.0, price_greeks_vega=0.0, price_greeks_rho=0.0, price_greeks_omega=0.0, price_sensitivity=0.0, basis='', category='Majors', currency_base='GBP', currency_profit='USD', currency_margin='GBP', bank='', description='Great Britain Pound vs US Dollar', exchange='', formula='', isin='', name='GBPUSD', page='', path='Forex\\\\GBPUSD'),\n",
       " SymbolInfo(custom=False, chart_mode=0, select=True, visible=False, session_deals=0, session_buy_orders=0, session_sell_orders=0, volume=0, volumehigh=0, volumelow=0, time=1721125211, digits=5, spread=0, spread_float=True, ticks_bookdepth=0, trade_calc_mode=0, trade_mode=4, start_time=0, expiration_time=0, trade_stops_level=0, trade_freeze_level=0, trade_exemode=2, swap_mode=1, swap_rollover3days=3, margin_hedged_use_leg=False, expiration_mode=15, filling_mode=3, order_mode=127, order_gtc_mode=0, option_mode=0, option_right=0, bid=0.67457, bidhigh=0.67629, bidlow=0.67328, ask=0.67457, askhigh=0.67629, asklow=0.67328, last=0.0, lasthigh=0.0, lastlow=0.0, volume_real=0.0, volumehigh_real=0.0, volumelow_real=0.0, option_strike=0.0, point=1e-05, trade_tick_value=1.0, trade_tick_value_profit=1.0, trade_tick_value_loss=1.0, trade_tick_size=1e-05, trade_contract_size=100000.0, trade_accrued_interest=0.0, trade_face_value=0.0, trade_liquidity_rate=0.0, volume_min=0.01, volume_max=200.0, volume_step=0.01, volume_limit=0.0, swap_long=-3.0, swap_short=-0.1, margin_initial=0.0, margin_maintenance=0.0, session_volume=0.0, session_turnover=0.0, session_interest=0.0, session_buy_orders_volume=0.0, session_sell_orders_volume=0.0, session_open=0.67625, session_close=0.67626, session_aw=0.0, session_price_settlement=0.0, session_price_limit_min=0.0, session_price_limit_max=0.0, margin_hedged=0.0, price_change=-0.2499, price_volatility=0.0, price_theoretical=0.0, price_greeks_delta=0.0, price_greeks_theta=0.0, price_greeks_gamma=0.0, price_greeks_vega=0.0, price_greeks_rho=0.0, price_greeks_omega=0.0, price_sensitivity=0.0, basis='', category='Majors', currency_base='AUD', currency_profit='USD', currency_margin='AUD', bank='', description='Australian Dollar vs US Dollar', exchange='', formula='', isin='', name='AUDUSD', page='', path='Forex\\\\AUDUSD'),\n",
       " SymbolInfo(custom=False, chart_mode=0, select=True, visible=True, session_deals=0, session_buy_orders=0, session_sell_orders=0, volume=0, volumehigh=0, volumelow=0, time=1721125201, digits=5, spread=0, spread_float=True, ticks_bookdepth=0, trade_calc_mode=0, trade_mode=4, start_time=0, expiration_time=0, trade_stops_level=0, trade_freeze_level=0, trade_exemode=2, swap_mode=1, swap_rollover3days=3, margin_hedged_use_leg=False, expiration_mode=15, filling_mode=3, order_mode=127, order_gtc_mode=0, option_mode=0, option_right=0, bid=0.60684, bidhigh=0.60765, bidlow=0.60482, ask=0.60684, askhigh=0.60765, asklow=0.60482, last=0.0, lasthigh=0.0, lastlow=0.0, volume_real=0.0, volumehigh_real=0.0, volumelow_real=0.0, option_strike=0.0, point=1e-05, trade_tick_value=1.0, trade_tick_value_profit=1.0, trade_tick_value_loss=1.0, trade_tick_size=1e-05, trade_contract_size=100000.0, trade_accrued_interest=0.0, trade_face_value=0.0, trade_liquidity_rate=0.0, volume_min=0.01, volume_max=200.0, volume_step=0.01, volume_limit=0.0, swap_long=-0.6, swap_short=-0.8, margin_initial=0.0, margin_maintenance=0.0, session_volume=0.0, session_turnover=0.0, session_interest=0.0, session_buy_orders_volume=0.0, session_sell_orders_volume=0.0, session_open=0.60759, session_close=0.60759, session_aw=0.0, session_price_settlement=0.0, session_price_limit_min=0.0, session_price_limit_max=0.0, margin_hedged=0.0, price_change=-0.1234, price_volatility=0.0, price_theoretical=0.0, price_greeks_delta=0.0, price_greeks_theta=0.0, price_greeks_gamma=0.0, price_greeks_vega=0.0, price_greeks_rho=0.0, price_greeks_omega=0.0, price_sensitivity=0.0, basis='', category='Majors', currency_base='NZD', currency_profit='USD', currency_margin='NZD', bank='', description='New Zealand Dollar vs US Dollar', exchange='', formula='', isin='', name='NZDUSD', page='', path='Forex\\\\NZDUSD'),\n",
       " SymbolInfo(custom=False, chart_mode=0, select=True, visible=False, session_deals=0, session_buy_orders=0, session_sell_orders=0, volume=0, volumehigh=0, volumelow=0, time=1721125214, digits=3, spread=8, spread_float=True, ticks_bookdepth=0, trade_calc_mode=0, trade_mode=4, start_time=0, expiration_time=0, trade_stops_level=0, trade_freeze_level=0, trade_exemode=2, swap_mode=1, swap_rollover3days=3, margin_hedged_use_leg=False, expiration_mode=15, filling_mode=3, order_mode=127, order_gtc_mode=0, option_mode=0, option_right=0, bid=30.9, bidhigh=30.902, bidlow=30.558, ask=30.908, askhigh=30.909, asklow=30.566, last=0.0, lasthigh=0.0, lastlow=0.0, volume_real=0.0, volumehigh_real=0.0, volumelow_real=0.0, option_strike=0.0, point=0.001, trade_tick_value=5.0, trade_tick_value_profit=5.0, trade_tick_value_loss=5.0, trade_tick_size=0.001, trade_contract_size=5000.0, trade_accrued_interest=0.0, trade_face_value=0.0, trade_liquidity_rate=0.0, volume_min=0.01, volume_max=200.0, volume_step=0.01, volume_limit=0.0, swap_long=-5.1, swap_short=0.0, margin_initial=0.0, margin_maintenance=0.0, session_volume=0.0, session_turnover=0.0, session_interest=0.0, session_buy_orders_volume=0.0, session_sell_orders_volume=0.0, session_open=30.615, session_close=30.619, session_aw=0.0, session_price_settlement=0.0, session_price_limit_min=0.0, session_price_limit_max=0.0, margin_hedged=0.0, price_change=0.9177, price_volatility=0.0, price_theoretical=0.0, price_greeks_delta=0.0, price_greeks_theta=0.0, price_greeks_gamma=0.0, price_greeks_vega=0.0, price_greeks_rho=0.0, price_greeks_omega=0.0, price_sensitivity=0.0, basis='', category='Metals', currency_base='XAG', currency_profit='USD', currency_margin='XAG', bank='', description='Silver vs US Dollar', exchange='', formula='', isin='', name='XAGUSD', page='', path='Forex\\\\XAGUSD'),\n",
       " SymbolInfo(custom=False, chart_mode=0, select=True, visible=True, session_deals=0, session_buy_orders=0, session_sell_orders=0, volume=0, volumehigh=0, volumelow=0, time=1721125215, digits=3, spread=0, spread_float=True, ticks_bookdepth=0, trade_calc_mode=0, trade_mode=4, start_time=0, expiration_time=0, trade_stops_level=0, trade_freeze_level=0, trade_exemode=2, swap_mode=1, swap_rollover3days=3, margin_hedged_use_leg=False, expiration_mode=15, filling_mode=3, order_mode=127, order_gtc_mode=0, option_mode=0, option_right=0, bid=2441.732, bidhigh=2443.508, bidlow=2420.004, ask=2441.732, askhigh=2443.508, asklow=2420.004, last=0.0, lasthigh=0.0, lastlow=0.0, volume_real=0.0, volumehigh_real=0.0, volumelow_real=0.0, option_strike=0.0, point=0.001, trade_tick_value=0.1, trade_tick_value_profit=0.1, trade_tick_value_loss=0.1, trade_tick_size=0.001, trade_contract_size=100.0, trade_accrued_interest=0.0, trade_face_value=0.0, trade_liquidity_rate=0.0, volume_min=0.01, volume_max=200.0, volume_step=0.01, volume_limit=0.0, swap_long=-392.1, swap_short=0.0, margin_initial=0.0, margin_maintenance=0.0, session_volume=0.0, session_turnover=0.0, session_interest=0.0, session_buy_orders_volume=0.0, session_sell_orders_volume=0.0, session_open=2422.572, session_close=2422.586, session_aw=0.0, session_price_settlement=0.0, session_price_limit_min=0.0, session_price_limit_max=0.0, margin_hedged=0.0, price_change=0.7903, price_volatility=0.0, price_theoretical=0.0, price_greeks_delta=0.0, price_greeks_theta=0.0, price_greeks_gamma=0.0, price_greeks_vega=0.0, price_greeks_rho=0.0, price_greeks_omega=0.0, price_sensitivity=0.0, basis='', category='Metals', currency_base='XAU', currency_profit='USD', currency_margin='XAU', bank='', description='Gold vs US Dollar', exchange='', formula='', isin='', name='XAUUSD', page='', path='Forex\\\\XAUUSD'),\n",
       " SymbolInfo(custom=False, chart_mode=0, select=False, visible=False, session_deals=0, session_buy_orders=0, session_sell_orders=0, volume=0, volumehigh=0, volumelow=0, time=0, digits=2, spread=0, spread_float=True, ticks_bookdepth=0, trade_calc_mode=5, trade_mode=4, start_time=0, expiration_time=0, trade_stops_level=0, trade_freeze_level=0, trade_exemode=2, swap_mode=1, swap_rollover3days=5, margin_hedged_use_leg=False, expiration_mode=15, filling_mode=3, order_mode=127, order_gtc_mode=0, option_mode=0, option_right=0, bid=0.0, bidhigh=0.0, bidlow=0.0, ask=0.0, askhigh=0.0, asklow=0.0, last=0.0, lasthigh=0.0, lastlow=0.0, volume_real=0.0, volumehigh_real=0.0, volumelow_real=0.0, option_strike=0.0, point=0.01, trade_tick_value=0.01, trade_tick_value_profit=0.01, trade_tick_value_loss=0.01, trade_tick_size=0.01, trade_contract_size=1.0, trade_accrued_interest=0.0, trade_face_value=0.0, trade_liquidity_rate=0.0, volume_min=0.01, volume_max=200.0, volume_step=0.01, volume_limit=0.0, swap_long=-122.5, swap_short=-48.3, margin_initial=1.0, margin_maintenance=0.0, session_volume=0.0, session_turnover=0.0, session_interest=0.0, session_buy_orders_volume=0.0, session_sell_orders_volume=0.0, session_open=0.0, session_close=0.0, session_aw=0.0, session_price_settlement=0.0, session_price_limit_min=0.0, session_price_limit_max=0.0, margin_hedged=0.0, price_change=0.0, price_volatility=0.0, price_theoretical=0.0, price_greeks_delta=0.0, price_greeks_theta=0.0, price_greeks_gamma=0.0, price_greeks_vega=0.0, price_greeks_rho=0.0, price_greeks_omega=0.0, price_sensitivity=0.0, basis='', category='Metals', currency_base='XAL', currency_profit='USD', currency_margin='XAL', bank='', description='Aluminum vs US Dollar', exchange='', formula='', isin='', name='XALUSD', page='', path='Forex\\\\XALUSD'),\n",
       " SymbolInfo(custom=False, chart_mode=0, select=False, visible=False, session_deals=0, session_buy_orders=0, session_sell_orders=0, volume=0, volumehigh=0, volumelow=0, time=0, digits=2, spread=0, spread_float=True, ticks_bookdepth=0, trade_calc_mode=5, trade_mode=4, start_time=0, expiration_time=0, trade_stops_level=0, trade_freeze_level=0, trade_exemode=2, swap_mode=1, swap_rollover3days=5, margin_hedged_use_leg=False, expiration_mode=15, filling_mode=3, order_mode=127, order_gtc_mode=0, option_mode=0, option_right=0, bid=0.0, bidhigh=0.0, bidlow=0.0, ask=0.0, askhigh=0.0, asklow=0.0, last=0.0, lasthigh=0.0, lastlow=0.0, volume_real=0.0, volumehigh_real=0.0, volumelow_real=0.0, option_strike=0.0, point=0.01, trade_tick_value=0.01, trade_tick_value_profit=0.01, trade_tick_value_loss=0.01, trade_tick_size=0.01, trade_contract_size=1.0, trade_accrued_interest=0.0, trade_face_value=0.0, trade_liquidity_rate=0.0, volume_min=0.01, volume_max=200.0, volume_step=0.01, volume_limit=0.0, swap_long=0.0, swap_short=-167.5, margin_initial=1.0, margin_maintenance=0.0, session_volume=0.0, session_turnover=0.0, session_interest=0.0, session_buy_orders_volume=0.0, session_sell_orders_volume=0.0, session_open=0.0, session_close=0.0, session_aw=0.0, session_price_settlement=0.0, session_price_limit_min=0.0, session_price_limit_max=0.0, margin_hedged=0.0, price_change=0.0, price_volatility=0.0, price_theoretical=0.0, price_greeks_delta=0.0, price_greeks_theta=0.0, price_greeks_gamma=0.0, price_greeks_vega=0.0, price_greeks_rho=0.0, price_greeks_omega=0.0, price_sensitivity=0.0, basis='', category='Metals', currency_base='XCU', currency_profit='USD', currency_margin='XCU', bank='', description='Copper vs US Dollar', exchange='', formula='', isin='', name='XCUUSD', page='', path='Forex\\\\XCUUSD'),\n",
       " SymbolInfo(custom=False, chart_mode=0, select=False, visible=False, session_deals=0, session_buy_orders=0, session_sell_orders=0, volume=0, volumehigh=0, volumelow=0, time=0, digits=2, spread=0, spread_float=True, ticks_bookdepth=0, trade_calc_mode=5, trade_mode=4, start_time=0, expiration_time=0, trade_stops_level=0, trade_freeze_level=0, trade_exemode=2, swap_mode=1, swap_rollover3days=5, margin_hedged_use_leg=False, expiration_mode=15, filling_mode=3, order_mode=127, order_gtc_mode=0, option_mode=0, option_right=0, bid=0.0, bidhigh=0.0, bidlow=0.0, ask=0.0, askhigh=0.0, asklow=0.0, last=0.0, lasthigh=0.0, lastlow=0.0, volume_real=0.0, volumehigh_real=0.0, volumelow_real=0.0, option_strike=0.0, point=0.01, trade_tick_value=0.01, trade_tick_value_profit=0.01, trade_tick_value_loss=0.01, trade_tick_size=0.01, trade_contract_size=1.0, trade_accrued_interest=0.0, trade_face_value=0.0, trade_liquidity_rate=0.0, volume_min=0.01, volume_max=200.0, volume_step=0.01, volume_limit=0.0, swap_long=-537.5, swap_short=-328.8, margin_initial=1.0, margin_maintenance=0.0, session_volume=0.0, session_turnover=0.0, session_interest=0.0, session_buy_orders_volume=0.0, session_sell_orders_volume=0.0, session_open=0.0, session_close=0.0, session_aw=0.0, session_price_settlement=0.0, session_price_limit_min=0.0, session_price_limit_max=0.0, margin_hedged=0.0, price_change=0.0, price_volatility=0.0, price_theoretical=0.0, price_greeks_delta=0.0, price_greeks_theta=0.0, price_greeks_gamma=0.0, price_greeks_vega=0.0, price_greeks_rho=0.0, price_greeks_omega=0.0, price_sensitivity=0.0, basis='', category='Metals', currency_base='XNI', currency_profit='USD', currency_margin='XNI', bank='', description='Nickel vs US Dollar', exchange='', formula='', isin='', name='XNIUSD', page='', path='Forex\\\\XNIUSD'),\n",
       " SymbolInfo(custom=False, chart_mode=0, select=False, visible=False, session_deals=0, session_buy_orders=0, session_sell_orders=0, volume=0, volumehigh=0, volumelow=0, time=0, digits=2, spread=0, spread_float=True, ticks_bookdepth=0, trade_calc_mode=5, trade_mode=4, start_time=0, expiration_time=0, trade_stops_level=0, trade_freeze_level=0, trade_exemode=2, swap_mode=1, swap_rollover3days=5, margin_hedged_use_leg=False, expiration_mode=15, filling_mode=3, order_mode=127, order_gtc_mode=0, option_mode=0, option_right=0, bid=0.0, bidhigh=0.0, bidlow=0.0, ask=0.0, askhigh=0.0, asklow=0.0, last=0.0, lasthigh=0.0, lastlow=0.0, volume_real=0.0, volumehigh_real=0.0, volumelow_real=0.0, option_strike=0.0, point=0.01, trade_tick_value=0.01, trade_tick_value_profit=0.01, trade_tick_value_loss=0.01, trade_tick_size=0.01, trade_contract_size=1.0, trade_accrued_interest=0.0, trade_face_value=0.0, trade_liquidity_rate=0.0, volume_min=0.01, volume_max=200.0, volume_step=0.01, volume_limit=0.0, swap_long=-110.1, swap_short=-43.0, margin_initial=1.0, margin_maintenance=0.0, session_volume=0.0, session_turnover=0.0, session_interest=0.0, session_buy_orders_volume=0.0, session_sell_orders_volume=0.0, session_open=0.0, session_close=0.0, session_aw=0.0, session_price_settlement=0.0, session_price_limit_min=0.0, session_price_limit_max=0.0, margin_hedged=0.0, price_change=0.0, price_volatility=0.0, price_theoretical=0.0, price_greeks_delta=0.0, price_greeks_theta=0.0, price_greeks_gamma=0.0, price_greeks_vega=0.0, price_greeks_rho=0.0, price_greeks_omega=0.0, price_sensitivity=0.0, basis='', category='Metals', currency_base='XPB', currency_profit='USD', currency_margin='XPB', bank='', description='Lead vs US Dollar', exchange='', formula='', isin='', name='XPBUSD', page='', path='Forex\\\\XPBUSD'),\n",
       " SymbolInfo(custom=False, chart_mode=0, select=False, visible=False, session_deals=0, session_buy_orders=0, session_sell_orders=0, volume=0, volumehigh=0, volumelow=0, time=0, digits=2, spread=0, spread_float=True, ticks_bookdepth=0, trade_calc_mode=5, trade_mode=4, start_time=0, expiration_time=0, trade_stops_level=0, trade_freeze_level=0, trade_exemode=2, swap_mode=1, swap_rollover3days=5, margin_hedged_use_leg=False, expiration_mode=15, filling_mode=3, order_mode=127, order_gtc_mode=0, option_mode=0, option_right=0, bid=0.0, bidhigh=0.0, bidlow=0.0, ask=0.0, askhigh=0.0, asklow=0.0, last=0.0, lasthigh=0.0, lastlow=0.0, volume_real=0.0, volumehigh_real=0.0, volumelow_real=0.0, option_strike=0.0, point=0.01, trade_tick_value=0.01, trade_tick_value_profit=0.01, trade_tick_value_loss=0.01, trade_tick_size=0.01, trade_contract_size=1.0, trade_accrued_interest=0.0, trade_face_value=0.0, trade_liquidity_rate=0.0, volume_min=0.01, volume_max=200.0, volume_step=0.01, volume_limit=0.0, swap_long=-102.6, swap_short=-57.3, margin_initial=1.0, margin_maintenance=0.0, session_volume=0.0, session_turnover=0.0, session_interest=0.0, session_buy_orders_volume=0.0, session_sell_orders_volume=0.0, session_open=0.0, session_close=0.0, session_aw=0.0, session_price_settlement=0.0, session_price_limit_min=0.0, session_price_limit_max=0.0, margin_hedged=0.0, price_change=0.0, price_volatility=0.0, price_theoretical=0.0, price_greeks_delta=0.0, price_greeks_theta=0.0, price_greeks_gamma=0.0, price_greeks_vega=0.0, price_greeks_rho=0.0, price_greeks_omega=0.0, price_sensitivity=0.0, basis='', category='Metals', currency_base='XZN', currency_profit='USD', currency_margin='XZN', bank='', description='Zinc vs US Dollar', exchange='', formula='', isin='', name='XZNUSD', page='', path='Forex\\\\XZNUSD'),\n",
       " SymbolInfo(custom=False, chart_mode=0, select=False, visible=False, session_deals=0, session_buy_orders=0, session_sell_orders=0, volume=0, volumehigh=0, volumelow=0, time=0, digits=2, spread=0, spread_float=True, ticks_bookdepth=0, trade_calc_mode=5, trade_mode=4, start_time=0, expiration_time=0, trade_stops_level=0, trade_freeze_level=0, trade_exemode=2, swap_mode=1, swap_rollover3days=3, margin_hedged_use_leg=False, expiration_mode=15, filling_mode=3, order_mode=127, order_gtc_mode=0, option_mode=0, option_right=0, bid=0.0, bidhigh=0.0, bidlow=0.0, ask=0.0, askhigh=0.0, asklow=0.0, last=0.0, lasthigh=0.0, lastlow=0.0, volume_real=0.0, volumehigh_real=0.0, volumelow_real=0.0, option_strike=0.0, point=0.01, trade_tick_value=1.0, trade_tick_value_profit=1.0, trade_tick_value_loss=1.0, trade_tick_size=0.01, trade_contract_size=100.0, trade_accrued_interest=0.0, trade_face_value=0.0, trade_liquidity_rate=0.0, volume_min=0.01, volume_max=200.0, volume_step=0.01, volume_limit=0.0, swap_long=-15.0, swap_short=0.0, margin_initial=100.0, margin_maintenance=0.0, session_volume=0.0, session_turnover=0.0, session_interest=0.0, session_buy_orders_volume=0.0, session_sell_orders_volume=0.0, session_open=0.0, session_close=0.0, session_aw=0.0, session_price_settlement=0.0, session_price_limit_min=0.0, session_price_limit_max=0.0, margin_hedged=0.0, price_change=0.0, price_volatility=0.0, price_theoretical=0.0, price_greeks_delta=0.0, price_greeks_theta=0.0, price_greeks_gamma=0.0, price_greeks_vega=0.0, price_greeks_rho=0.0, price_greeks_omega=0.0, price_sensitivity=0.0, basis='', category='Metals', currency_base='XPT', currency_profit='USD', currency_margin='XPT', bank='', description='Platinum', exchange='', formula='', isin='', name='XPTUSD', page='', path='Forex\\\\XPTUSD'),\n",
       " SymbolInfo(custom=False, chart_mode=0, select=False, visible=False, session_deals=0, session_buy_orders=0, session_sell_orders=0, volume=0, volumehigh=0, volumelow=0, time=0, digits=2, spread=0, spread_float=True, ticks_bookdepth=0, trade_calc_mode=5, trade_mode=4, start_time=0, expiration_time=0, trade_stops_level=0, trade_freeze_level=0, trade_exemode=2, swap_mode=1, swap_rollover3days=3, margin_hedged_use_leg=False, expiration_mode=15, filling_mode=3, order_mode=127, order_gtc_mode=0, option_mode=0, option_right=0, bid=0.0, bidhigh=0.0, bidlow=0.0, ask=0.0, askhigh=0.0, asklow=0.0, last=0.0, lasthigh=0.0, lastlow=0.0, volume_real=0.0, volumehigh_real=0.0, volumelow_real=0.0, option_strike=0.0, point=0.01, trade_tick_value=1.0, trade_tick_value_profit=1.0, trade_tick_value_loss=1.0, trade_tick_size=0.01, trade_contract_size=100.0, trade_accrued_interest=0.0, trade_face_value=0.0, trade_liquidity_rate=0.0, volume_min=0.01, volume_max=200.0, volume_step=0.01, volume_limit=0.0, swap_long=-6.0, swap_short=0.0, margin_initial=100.0, margin_maintenance=0.0, session_volume=0.0, session_turnover=0.0, session_interest=0.0, session_buy_orders_volume=0.0, session_sell_orders_volume=0.0, session_open=0.0, session_close=0.0, session_aw=0.0, session_price_settlement=0.0, session_price_limit_min=0.0, session_price_limit_max=0.0, margin_hedged=0.0, price_change=0.0, price_volatility=0.0, price_theoretical=0.0, price_greeks_delta=0.0, price_greeks_theta=0.0, price_greeks_gamma=0.0, price_greeks_vega=0.0, price_greeks_rho=0.0, price_greeks_omega=0.0, price_sensitivity=0.0, basis='', category='Metals', currency_base='XPD', currency_profit='USD', currency_margin='XPD', bank='', description='Palladium', exchange='', formula='', isin='', name='XPDUSD', page='', path='Forex\\\\XPDUSD'),\n",
       " SymbolInfo(custom=False, chart_mode=0, select=False, visible=False, session_deals=0, session_buy_orders=0, session_sell_orders=0, volume=0, volumehigh=0, volumelow=0, time=0, digits=8, spread=0, spread_float=True, ticks_bookdepth=0, trade_calc_mode=0, trade_mode=0, start_time=0, expiration_time=0, trade_stops_level=0, trade_freeze_level=0, trade_exemode=0, swap_mode=0, swap_rollover3days=3, margin_hedged_use_leg=False, expiration_mode=15, filling_mode=3, order_mode=127, order_gtc_mode=0, option_mode=0, option_right=0, bid=0.0, bidhigh=0.0, bidlow=0.0, ask=0.0, askhigh=0.0, asklow=0.0, last=0.0, lasthigh=0.0, lastlow=0.0, volume_real=0.0, volumehigh_real=0.0, volumelow_real=0.0, option_strike=0.0, point=1e-08, trade_tick_value=1e-08, trade_tick_value_profit=1e-08, trade_tick_value_loss=1e-08, trade_tick_size=1e-08, trade_contract_size=1.0, trade_accrued_interest=0.0, trade_face_value=0.0, trade_liquidity_rate=0.0, volume_min=0.01, volume_max=20.0, volume_step=0.01, volume_limit=0.0, swap_long=0.0, swap_short=0.0, margin_initial=1.0, margin_maintenance=0.0, session_volume=0.0, session_turnover=0.0, session_interest=0.0, session_buy_orders_volume=0.0, session_sell_orders_volume=0.0, session_open=0.0, session_close=0.0, session_aw=0.0, session_price_settlement=0.0, session_price_limit_min=0.0, session_price_limit_max=0.0, margin_hedged=0.0, price_change=0.0, price_volatility=0.0, price_theoretical=0.0, price_greeks_delta=0.0, price_greeks_theta=0.0, price_greeks_gamma=0.0, price_greeks_vega=0.0, price_greeks_rho=0.0, price_greeks_omega=0.0, price_sensitivity=0.0, basis='', category='Other', currency_base='MBT', currency_profit='USD', currency_margin='MBT', bank='', description='Micro Bitcoin vs US Dollar', exchange='', formula='', isin='', name='MBTUSD', page='', path='Forex_Indicator\\\\MBTUSD')]"
      ]
     },
     "execution_count": 32,
     "metadata": {},
     "output_type": "execute_result"
    }
   ],
   "source": [
    "list(filter(lambda x: x.name.endswith('USD') and x.path.startswith('Forex'), mt5.symbols_get()))"
   ]
  },
  {
   "cell_type": "code",
   "execution_count": 37,
   "metadata": {},
   "outputs": [
    {
     "data": {
      "text/plain": [
       "pandas._libs.tslibs.timestamps.Timestamp"
      ]
     },
     "execution_count": 37,
     "metadata": {},
     "output_type": "execute_result"
    }
   ],
   "source": [
    "from datetime import datetime\n",
    "\n",
    "type(pd.Timestamp(datetime.now()))"
   ]
  },
  {
   "cell_type": "code",
   "execution_count": 4,
   "metadata": {},
   "outputs": [
    {
     "data": {
      "text/plain": [
       "()"
      ]
     },
     "execution_count": 4,
     "metadata": {},
     "output_type": "execute_result"
    }
   ],
   "source": [
    "mt5.positions_get(symbol='BTCUSD')"
   ]
  },
  {
   "cell_type": "code",
   "execution_count": 4,
   "metadata": {},
   "outputs": [],
   "source": [
    "def get_highest_pivot_bar(df: pd.DataFrame, pivot_bar: pd.Series, window_size: int = 2) -> pd.Series:\n",
    "    left_bars = df[df['time'] < pivot_bar['time']].tail(window_size)\n",
    "    right_bars = df[df['time'] > pivot_bar['time']].head(window_size)\n",
    "\n",
    "    merged_df = pd.concat([left_bars, right_bars])\n",
    "    highest_bar = merged_df.nlargest(1, 'high')\n",
    "    highest_bar = highest_bar.iloc[-1]\n",
    "\n",
    "    return pivot_bar if highest_bar['high'] < pivot_bar['high'] else highest_bar\n",
    "\n",
    "def get_lowest_pivot_bar(df: pd.DataFrame, pivot_bar: pd.Series, window_size: int = 2) -> pd.Series:\n",
    "    left_bars = df[df['time'] < pivot_bar['time']].tail(window_size)\n",
    "    right_bars = df[df['time'] > pivot_bar['time']].head(window_size)\n",
    "    \n",
    "    merged_df = pd.concat([left_bars, right_bars])\n",
    "    lowest_bar = merged_df.nsmallest(1, 'low')\n",
    "    lowest_bar = lowest_bar.iloc[-1]\n",
    "\n",
    "    return pivot_bar if lowest_bar['low'] > pivot_bar['low'] else lowest_bar\n",
    "\n",
    "def is_bearish_divergence(df: pd.DataFrame, current_pivot_high: pd.Series) -> Optional[pd.Series]:\n",
    "    nearest_rsi_pivot_high = df[(df['rsi_pivot_high']) & (df['time'] < current_pivot_high['time']) & (df['rsi'] > current_pivot_high['rsi'])]\n",
    "        \n",
    "    if not nearest_rsi_pivot_high.empty:\n",
    "        nearest_rsi_pivot_high = nearest_rsi_pivot_high.iloc[-1]\n",
    "        \n",
    "        if nearest_rsi_pivot_high['rsi'] > 60:\n",
    "            current_pivot_high = get_highest_pivot_bar(df, current_pivot_high)\n",
    "            nearest_pivot_high_candle = get_highest_pivot_bar(df, nearest_rsi_pivot_high)\n",
    "            \n",
    "            if current_pivot_high['high'] > nearest_pivot_high_candle['high']:\n",
    "                return nearest_rsi_pivot_high\n",
    "    \n",
    "    return None\n",
    "\n",
    "def is_bullish_divergence(df: pd.DataFrame, current_pivot_low: pd.Series) -> Optional[pd.Series]:\n",
    "    nearest_rsi_pivot_low = df[(df['rsi_pivot_low']) & (df['time'] < current_pivot_low['time']) & (df['rsi'] < current_pivot_low['rsi'])]\n",
    "    if not nearest_rsi_pivot_low.empty:\n",
    "        nearest_rsi_pivot_low = nearest_rsi_pivot_low.iloc[-1]\n",
    "\n",
    "        if nearest_rsi_pivot_low['rsi'] < 40:\n",
    "            current_pivot_low = get_lowest_pivot_bar(df, current_pivot_low)\n",
    "            nearest_pivot_low_candle = get_lowest_pivot_bar(df, nearest_rsi_pivot_low)\n",
    "\n",
    "            if current_pivot_low['low'] < nearest_pivot_low_candle['low']:\n",
    "                return nearest_rsi_pivot_low\n",
    "            \n",
    "    return None\n",
    "    \n",
    "def detect_divergence(df: pd.DataFrame):\n",
    "    price_lines = []\n",
    "    rsi_lines = []\n",
    "    \n",
    "    for _, current_candle in df.iterrows():\n",
    "        if current_candle['rsi_pivot_low']:\n",
    "            bullish_divergence_point = is_bullish_divergence(df, current_candle)\n",
    "            if bullish_divergence_point is not None:\n",
    "                rsi_lines.append([\n",
    "                    (bullish_divergence_point['time'], bullish_divergence_point['rsi']),\n",
    "                    (current_candle['time'], current_candle['rsi'])\n",
    "                ])\n",
    "                \n",
    "                current_candle = get_lowest_pivot_bar(df, current_candle)\n",
    "                nearest_pivot_low_candle = get_lowest_pivot_bar(df, bullish_divergence_point)\n",
    "                price_lines.append([\n",
    "                    (nearest_pivot_low_candle['time'], nearest_pivot_low_candle['low']),\n",
    "                    (current_candle['time'], current_candle['low'])\n",
    "                ])\n",
    "\n",
    "        if current_candle['rsi_pivot_high']:\n",
    "            bearish_divergence_point = is_bearish_divergence(df, current_candle)\n",
    "            if bearish_divergence_point is not None:\n",
    "                rsi_lines.append([\n",
    "                    (bearish_divergence_point['time'], bearish_divergence_point['rsi']),\n",
    "                    (current_candle['time'], current_candle['rsi'])\n",
    "                ])\n",
    "\n",
    "                current_candle = get_highest_pivot_bar(df, current_candle)\n",
    "                nearest_pivot_high_candle = get_highest_pivot_bar(df, bearish_divergence_point)\n",
    "                price_lines.append([\n",
    "                    (nearest_pivot_high_candle['time'], nearest_pivot_high_candle['high']),\n",
    "                    (current_candle['time'], current_candle['high'])\n",
    "                ])\n",
    "\n",
    "    return price_lines, rsi_lines"
   ]
  },
  {
   "cell_type": "code",
   "execution_count": 9,
   "metadata": {},
   "outputs": [
    {
     "name": "stderr",
     "output_type": "stream",
     "text": [
      "d:\\python-source\\rsi-signal-bot\\venv\\lib\\site-packages\\numpy\\core\\fromnumeric.py:59: FutureWarning: 'DataFrame.swapaxes' is deprecated and will be removed in a future version. Please use 'DataFrame.transpose' instead.\n",
      "  return bound(*args, **kwds)\n"
     ]
    },
    {
     "data": {
      "text/html": [
       "<div>\n",
       "<style scoped>\n",
       "    .dataframe tbody tr th:only-of-type {\n",
       "        vertical-align: middle;\n",
       "    }\n",
       "\n",
       "    .dataframe tbody tr th {\n",
       "        vertical-align: top;\n",
       "    }\n",
       "\n",
       "    .dataframe thead th {\n",
       "        text-align: right;\n",
       "    }\n",
       "</style>\n",
       "<table border=\"1\" class=\"dataframe\">\n",
       "  <thead>\n",
       "    <tr style=\"text-align: right;\">\n",
       "      <th></th>\n",
       "      <th>low_close</th>\n",
       "      <th>mean_close</th>\n",
       "      <th>high_close</th>\n",
       "      <th>pos_tick_volume</th>\n",
       "      <th>neg_tick_volume</th>\n",
       "      <th>total_tick_volume</th>\n",
       "    </tr>\n",
       "  </thead>\n",
       "  <tbody>\n",
       "    <tr>\n",
       "      <th>195</th>\n",
       "      <td>1.29103</td>\n",
       "      <td>1.29103</td>\n",
       "      <td>1.29103</td>\n",
       "      <td>0.0</td>\n",
       "      <td>-1.844674e+19</td>\n",
       "      <td>-1.844674e+19</td>\n",
       "    </tr>\n",
       "    <tr>\n",
       "      <th>196</th>\n",
       "      <td>1.29102</td>\n",
       "      <td>1.29102</td>\n",
       "      <td>1.29102</td>\n",
       "      <td>0.0</td>\n",
       "      <td>-1.844674e+19</td>\n",
       "      <td>-1.844674e+19</td>\n",
       "    </tr>\n",
       "    <tr>\n",
       "      <th>197</th>\n",
       "      <td>1.29109</td>\n",
       "      <td>1.29109</td>\n",
       "      <td>1.29109</td>\n",
       "      <td>95.0</td>\n",
       "      <td>0.000000e+00</td>\n",
       "      <td>9.500000e+01</td>\n",
       "    </tr>\n",
       "    <tr>\n",
       "      <th>198</th>\n",
       "      <td>1.29112</td>\n",
       "      <td>1.29112</td>\n",
       "      <td>1.29112</td>\n",
       "      <td>80.0</td>\n",
       "      <td>0.000000e+00</td>\n",
       "      <td>8.000000e+01</td>\n",
       "    </tr>\n",
       "    <tr>\n",
       "      <th>199</th>\n",
       "      <td>1.29130</td>\n",
       "      <td>1.29130</td>\n",
       "      <td>1.29130</td>\n",
       "      <td>222.0</td>\n",
       "      <td>0.000000e+00</td>\n",
       "      <td>2.220000e+02</td>\n",
       "    </tr>\n",
       "  </tbody>\n",
       "</table>\n",
       "</div>"
      ],
      "text/plain": [
       "     low_close  mean_close  high_close  pos_tick_volume  neg_tick_volume  \\\n",
       "195    1.29103     1.29103     1.29103              0.0    -1.844674e+19   \n",
       "196    1.29102     1.29102     1.29102              0.0    -1.844674e+19   \n",
       "197    1.29109     1.29109     1.29109             95.0     0.000000e+00   \n",
       "198    1.29112     1.29112     1.29112             80.0     0.000000e+00   \n",
       "199    1.29130     1.29130     1.29130            222.0     0.000000e+00   \n",
       "\n",
       "     total_tick_volume  \n",
       "195      -1.844674e+19  \n",
       "196      -1.844674e+19  \n",
       "197       9.500000e+01  \n",
       "198       8.000000e+01  \n",
       "199       2.220000e+02  "
      ]
     },
     "execution_count": 9,
     "metadata": {},
     "output_type": "execute_result"
    }
   ],
   "source": [
    "rates = mt5.copy_rates_from_pos('GBPUSD', mt5.TIMEFRAME_M5, 0, 300)\n",
    "\n",
    "df = pd.DataFrame(rates)\n",
    "df['time'] = pd.to_datetime(rates['time'], unit='s')\n",
    "df['rsi'] = ta.rsi(df['close'], 14)\n",
    "df['atr'] = ta.atr(df['high'], df['low'], df['close'], 14)\n",
    "\n",
    "df.dropna(inplace=True)\n",
    "df.set_index(df['time'], inplace=True)\n",
    "\n",
    "window_size = 5\n",
    "df['rsi_pivot_high'] = df['rsi'] == df['rsi'].rolling(2 * window_size + 1, center=True).max()\n",
    "df['rsi_pivot_low'] = df['rsi'] == df['rsi'].rolling(2 * window_size + 1, center=True).min()\n",
    "\n",
    "vol_profile = ta.vp(df['close'], df['tick_volume'], 200)\n",
    "vol_profile.tail()"
   ]
  },
  {
   "cell_type": "code",
   "execution_count": null,
   "metadata": {},
   "outputs": [],
   "source": [
    "from market_profile import MarketProfile\n",
    "\n",
    "mp = MarketProfile(df, )"
   ]
  },
  {
   "cell_type": "code",
   "execution_count": 10,
   "metadata": {},
   "outputs": [
    {
     "data": {
      "image/png": "[encoded data removed]",
      "text/plain": [
       "<Figure size 800x575 with 4 Axes>"
      ]
     },
     "metadata": {},
     "output_type": "display_data"
    }
   ],
   "source": [
    "price_lines, rsi_lines = detect_divergence(df)\n",
    "\n",
    "# for prices, rsi in zip(price_lines, rsi_lines):\n",
    "#     print(prices)\n",
    "#     print(rsi)\n",
    "\n",
    "# price_lines.append([\n",
    "#     (pd.Timestamp('2024-07-18 14:00:00'), 1.09067),(pd.Timestamp('2024-07-18 18:50:00'), 1.08957)\n",
    "# ])\n",
    "# rsi_lines.append([\n",
    "#     (pd.Timestamp('2024-07-18 13:50:00'), 21.933133378154285), (pd.Timestamp('2024-07-18 18:40:00'), 22.237569674769773)\n",
    "# ])\n",
    "\n",
    "plots = [\n",
    "    mpf.make_addplot(df['rsi'], panel=1, color='black', fill_between=dict(y1=30, y2=30, color=\"gray\")),\n",
    "    mpf.make_addplot(df['rsi'], panel=1, color='black', fill_between=dict(y1=70, y2=70, color=\"gray\")),\n",
    "    # mpf.make_addplot(df['close'] + df['atr'] * 5, panel=0, color='r'),\n",
    "    # mpf.make_addplot(df['close'] - df['atr'] * 5, panel=0, color='g'),\n",
    "]\n",
    "style = mpf.make_mpf_style(base_mpf_style='yahoo', rc={'grid.alpha':0}, figcolor='#fff', facecolor=\"#fff\")\n",
    "_, axs = mpf.plot(\n",
    "    df,\n",
    "    type='candle',\n",
    "    style=style,\n",
    "    volume=False,\n",
    "    ylabel='',\n",
    "    ylabel_lower='',\n",
    "    addplot=plots,\n",
    "    returnfig=True,\n",
    "    alines=dict(alines=price_lines))\n",
    "\n",
    "rsi_lines = mpf._utils._construct_aline_collections(dict(alines=rsi_lines), df.index)\n",
    "axs[2].add_collection(rsi_lines);"
   ]
  },
  {
   "cell_type": "code",
   "execution_count": 8,
   "metadata": {},
   "outputs": [
    {
     "data": {
      "text/plain": [
       "OrderSendResult(retcode=10009, deal=156569646, order=208562880, volume=0.03, price=63165.37, bid=63165.37, ask=63168.75, comment='', request_id=2384262747, retcode_external=0, request=TradeRequest(action=1, magic=0, order=0, symbol='BTCUSD', volume=0.03, price=63165.37, stoplimit=0.0, sl=64188.99960187674, tp=0.0, deviation=10, type=1, type_filling=0, type_time=0, expiration=0, comment='', position=0, position_by=0))"
      ]
     },
     "execution_count": 8,
     "metadata": {},
     "output_type": "execute_result"
    }
   ],
   "source": [
    "symbol = 'BTCUSD'\n",
    "risk_amount = 30\n",
    "order_type = mt5.ORDER_TYPE_SELL\n",
    "info_tick = mt5.symbol_info_tick(symbol)\n",
    "atr = df['atr'].iloc[-2]\n",
    "\n",
    "entry = 0\n",
    "stop_loss = 0\n",
    "\n",
    "match order_type:\n",
    "    case mt5.ORDER_TYPE_BUY:\n",
    "        entry = info_tick.ask\n",
    "        stop_loss = entry - atr * 5\n",
    "    case mt5.ORDER_TYPE_SELL:\n",
    "        entry = info_tick.bid\n",
    "        stop_loss = entry + atr * 5\n",
    "\n",
    "trade_volume = risk_amount / abs(entry - stop_loss)\n",
    "trade_volume = round(trade_volume, 2)\n",
    "\n",
    "request = {\n",
    "    'action': mt5.TRADE_ACTION_DEAL,\n",
    "    'symbol': symbol,\n",
    "    'deviation': 10,\n",
    "    'type': order_type,\n",
    "    'volume': trade_volume,\n",
    "    'price': entry,\n",
    "    'sl': stop_loss\n",
    "}\n",
    "result = mt5.order_send(request)\n",
    "result"
   ]
  },
  {
   "cell_type": "code",
   "execution_count": 6,
   "metadata": {},
   "outputs": [
    {
     "data": {
      "text/plain": [
       "(TradePosition(ticket=210024869, time=1721231116, time_msc=1721231116001, time_update=1721231116, time_update_msc=1721231116001, type=0, magic=0, identifier=210024869, reason=3, volume=0.2, price_open=1.30034, sl=1.2978100000000001, tp=0.0, price_current=1.30019, swap=0.0, profit=-3.0, symbol='GBPUSD', comment='', external_id=''),)"
      ]
     },
     "execution_count": 6,
     "metadata": {},
     "output_type": "execute_result"
    }
   ],
   "source": [
    "positions = mt5.positions_get(symbol='GBPUSD')\n",
    "positions"
   ]
  },
  {
   "cell_type": "code",
   "execution_count": 7,
   "metadata": {},
   "outputs": [
    {
     "data": {
      "text/plain": [
       "OrderSendResult(retcode=10009, deal=0, order=0, volume=0.2, price=1.30012, bid=1.3001200000000002, ask=1.3001200000000002, comment='', request_id=2384262769, retcode_external=0, request=TradeRequest(action=6, magic=0, order=0, symbol='', volume=0.0, price=0.0, stoplimit=0.0, sl=1.29835, tp=0.0, deviation=0, type=0, type_filling=0, type_time=0, expiration=0, comment='', position=210024869, position_by=0))"
      ]
     },
     "execution_count": 7,
     "metadata": {},
     "output_type": "execute_result"
    }
   ],
   "source": [
    "request = {\n",
    "    'action': mt5.TRADE_ACTION_SLTP,\n",
    "    'position': positions[0].ticket,\n",
    "    'sl': 1.29835,\n",
    "    'commnet': 'test'\n",
    "}\n",
    "result = mt5.order_send(request)\n",
    "result"
   ]
  },
  {
   "cell_type": "code",
   "execution_count": 9,
   "metadata": {},
   "outputs": [
    {
     "data": {
      "text/plain": [
       "OrderSendResult(retcode=10013, deal=0, order=0, volume=0.0, price=0.0, bid=0.0, ask=0.0, comment='Invalid request', request_id=0, retcode_external=0, request=TradeRequest(action=7, magic=0, order=0, symbol='', volume=0.0, price=0.0, stoplimit=0.0, sl=0.0, tp=0.0, deviation=0, type=0, type_filling=0, type_time=0, expiration=0, comment='', position=210024869, position_by=0))"
      ]
     },
     "execution_count": 9,
     "metadata": {},
     "output_type": "execute_result"
    }
   ],
   "source": [
    "request = {\n",
    "    'action': mt5.TRADE_ACTION_MODIFY,\n",
    "    'position': positions[0].ticket,\n",
    "    # 'sl': 1.29835,\n",
    "    'commnet': 'test'\n",
    "}\n",
    "result = mt5.order_send(request)\n",
    "result"
   ]
  }
 ],
 "metadata": {
  "kernelspec": {
   "display_name": "venv",
   "language": "python",
   "name": "python3"
  },
  "language_info": {
   "codemirror_mode": {
    "name": "ipython",
    "version": 3
   },
   "file_extension": ".py",
   "mimetype": "text/x-python",
   "name": "python",
   "nbconvert_exporter": "python",
   "pygments_lexer": "ipython3",
   "version": "3.10.4"
  }
 },
 "nbformat": 4,
 "nbformat_minor": 2
}
