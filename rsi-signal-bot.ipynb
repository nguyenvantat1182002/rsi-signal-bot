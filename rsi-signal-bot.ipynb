{
 "cells": [
  {
   "cell_type": "code",
   "execution_count": 7,
   "metadata": {},
   "outputs": [],
   "source": [
    "import MetaTrader5 as mt5\n",
    "import pandas as pd\n",
    "import pandas_ta as ta\n",
    "import mplfinance as mpf\n",
    "import numpy as np\n",
    "\n",
    "from typing import List, Optional"
   ]
  },
  {
   "cell_type": "code",
   "execution_count": 8,
   "metadata": {},
   "outputs": [
    {
     "data": {
      "text/plain": [
       "True"
      ]
     },
     "execution_count": 8,
     "metadata": {},
     "output_type": "execute_result"
    }
   ],
   "source": [
    "mt5.initialize()"
   ]
  },
  {
   "cell_type": "code",
   "execution_count": 3,
   "metadata": {},
   "outputs": [],
   "source": [
    "def get_highest_pivot_bar(df: pd.DataFrame, pivot_bar: pd.Series, window_size: int = 5) -> Optional[pd.Series]:\n",
    "    left_bars = df[df['time'] < pivot_bar['time']].tail(window_size)\n",
    "    right_bars = df[df['time'] > pivot_bar['time']].head(window_size)\n",
    "\n",
    "    merged_df = pd.concat([left_bars, right_bars])\n",
    "    # highest_bar = merged_df.nlargest(1, 'high')\n",
    "    # highest_bar = highest_bar.iloc[-1]\n",
    "    highest_bar = merged_df[merged_df['pivot_high']]\n",
    "    if highest_bar.empty:\n",
    "        return pivot_bar if pivot_bar['pivot_high'] else None\n",
    "    \n",
    "    highest_bar = highest_bar.iloc[-1]\n",
    "\n",
    "    return highest_bar\n",
    "    # return pivot_bar if highest_bar['high'] < pivot_bar['high'] else highest_bar\n",
    "\n",
    "def get_lowest_pivot_bar(df: pd.DataFrame, pivot_bar: pd.Series, window_size: int = 5) -> Optional[pd.Series]:\n",
    "    left_bars = df[df['time'] < pivot_bar['time']].tail(window_size)\n",
    "    right_bars = df[df['time'] > pivot_bar['time']].head(window_size)\n",
    "    \n",
    "    merged_df = pd.concat([left_bars, right_bars])\n",
    "    # lowest_bar = merged_df.nsmallest(1, 'low')\n",
    "    # lowest_bar = lowest_bar.iloc[-1]\n",
    "    lowest_bar = merged_df[merged_df['pivot_low']]\n",
    "    if lowest_bar.empty:\n",
    "        return pivot_bar if pivot_bar['pivot_low'] else None\n",
    "        \n",
    "    lowest_bar = lowest_bar.iloc[-1]\n",
    "\n",
    "    return lowest_bar\n",
    "    # return pivot_bar if lowest_bar['low'] > pivot_bar['low'] else lowest_bar\n",
    "\n",
    "def is_bearish_divergence(df: pd.DataFrame, current_pivot_high: pd.Series) -> Optional[pd.Series]:\n",
    "    nearest_rsi_pivot_high = df[(df['rsi_pivot_high']) & (df['time'] < current_pivot_high['time']) & (df['rsi'] > current_pivot_high['rsi']) & (df['rsi'] > 70)]\n",
    "        \n",
    "    if not nearest_rsi_pivot_high.empty:\n",
    "        nearest_rsi_pivot_high = nearest_rsi_pivot_high.iloc[-1]\n",
    "        \n",
    "        current_pivot_high = get_highest_pivot_bar(df, current_pivot_high)\n",
    "        nearest_pivot_high_candle = get_highest_pivot_bar(df, nearest_rsi_pivot_high)\n",
    "\n",
    "        if current_pivot_high is not None and nearest_pivot_high_candle is not None:\n",
    "            if current_pivot_high['high'] > nearest_pivot_high_candle['high']:\n",
    "                return nearest_rsi_pivot_high\n",
    "            \n",
    "    return None\n",
    "\n",
    "def is_bullish_divergence(df: pd.DataFrame, current_pivot_low: pd.Series) -> Optional[pd.Series]:\n",
    "    nearest_rsi_pivot_low = df[(df['rsi_pivot_low']) & (df['time'] < current_pivot_low['time']) & (df['rsi'] < current_pivot_low['rsi']) & (df['rsi'] < 30)]\n",
    "    \n",
    "    if not nearest_rsi_pivot_low.empty:\n",
    "        nearest_rsi_pivot_low = nearest_rsi_pivot_low.iloc[-1]\n",
    "\n",
    "        current_pivot_low_candle = get_lowest_pivot_bar(df, current_pivot_low)\n",
    "        nearest_pivot_low_candle = get_lowest_pivot_bar(df, nearest_rsi_pivot_low)\n",
    "        \n",
    "        if current_pivot_low_candle is not None and nearest_pivot_low_candle is not None:\n",
    "            if current_pivot_low_candle['low'] < nearest_pivot_low_candle['low']:\n",
    "                return nearest_rsi_pivot_low\n",
    "            \n",
    "    return None\n",
    "\n",
    "\n",
    "def detect_divergence(df: pd.DataFrame):\n",
    "    price_lines = []\n",
    "    rsi_lines = []\n",
    "    \n",
    "    for _, current_candle in df.iterrows():\n",
    "        if current_candle['rsi_pivot_low']:\n",
    "            bullish_divergence_point = is_bullish_divergence(df, current_candle)\n",
    "            if bullish_divergence_point is not None:\n",
    "                rsi_lines.append([\n",
    "                    (bullish_divergence_point['time'], bullish_divergence_point['rsi']),\n",
    "                    (current_candle['time'], current_candle['rsi'])\n",
    "                ])\n",
    "                \n",
    "                current_candle = get_lowest_pivot_bar(df, current_candle)\n",
    "                nearest_pivot_low_candle = get_lowest_pivot_bar(df, bullish_divergence_point)\n",
    "                price_lines.append([\n",
    "                    (nearest_pivot_low_candle['time'], nearest_pivot_low_candle['low']),\n",
    "                    (current_candle['time'], current_candle['low'])\n",
    "                ])\n",
    "\n",
    "        if current_candle['rsi_pivot_high']:\n",
    "            bearish_divergence_point = is_bearish_divergence(df, current_candle)\n",
    "            if bearish_divergence_point is not None:\n",
    "                rsi_lines.append([\n",
    "                    (bearish_divergence_point['time'], bearish_divergence_point['rsi']),\n",
    "                    (current_candle['time'], current_candle['rsi'])\n",
    "                ])\n",
    "\n",
    "                current_candle = get_highest_pivot_bar(df, current_candle)\n",
    "                nearest_pivot_high_candle = get_highest_pivot_bar(df, bearish_divergence_point)\n",
    "                price_lines.append([\n",
    "                    (nearest_pivot_high_candle['time'], nearest_pivot_high_candle['high']),\n",
    "                    (current_candle['time'], current_candle['high'])\n",
    "                ])\n",
    "\n",
    "    return price_lines, rsi_lines"
   ]
  },
  {
   "cell_type": "code",
   "execution_count": 7,
   "metadata": {},
   "outputs": [],
   "source": [
    "symbol = 'AUDUSD'"
   ]
  },
  {
   "cell_type": "code",
   "execution_count": 8,
   "metadata": {},
   "outputs": [],
   "source": [
    "rates = mt5.copy_rates_from_pos(symbol, mt5.TIMEFRAME_M1, 0, 1000)\n",
    "\n",
    "df = pd.DataFrame(rates)\n",
    "df['time'] = pd.to_datetime(df['time'], unit='s')\n",
    "\n",
    "df['rsi'] = ta.rsi(df['close'], 14)\n",
    "df['atr'] = ta.atr(df['high'], df['low'], df['close'], 14)\n",
    "\n",
    "df.dropna(inplace=True)\n",
    "\n",
    "window_size = 5\n",
    "df['rsi_pivot_high'] = df['rsi'] == df['rsi'].rolling(2 * window_size + 1, center=True).max()\n",
    "df['rsi_pivot_low'] = df['rsi'] == df['rsi'].rolling(2 * window_size + 1, center=True).min()\n",
    "df['pivot_high'] = df['high'] == df['high'].rolling(2 * window_size + 1, center=True).max()\n",
    "df['pivot_low'] = df['low'] == df['low'].rolling(2 * window_size + 1, center=True).min()"
   ]
  },
  {
   "cell_type": "code",
   "execution_count": 9,
   "metadata": {},
   "outputs": [
    {
     "name": "stdout",
     "output_type": "stream",
     "text": [
      "False\n",
      "True\n"
     ]
    },
    {
     "data": {
      "image/png": "[encoded data removed]",
      "text/plain": [
       "<Figure size 800x575 with 4 Axes>"
      ]
     },
     "metadata": {},
     "output_type": "display_data"
    },
    {
     "ename": "",
     "evalue": "",
     "output_type": "error",
     "traceback": [
      "\u001b[1;31mThe Kernel crashed while executing code in the current cell or a previous cell. \n",
      "\u001b[1;31mPlease review the code in the cell(s) to identify a possible cause of the failure. \n",
      "\u001b[1;31mClick <a href='https://aka.ms/vscodeJupyterKernelCrash'>here</a> for more info. \n",
      "\u001b[1;31mView Jupyter <a href='command:jupyter.viewOutput'>log</a> for further details."
     ]
    }
   ],
   "source": [
    "sellside_liquidity = df[df['pivot_low']].iloc[-1]\n",
    "buyside_liquidity = df[df['pivot_high']].iloc[-1]\n",
    "\n",
    "tail_df = df.tail(9)\n",
    "\n",
    "print(not tail_df[tail_df['low'] < sellside_liquidity['low']].empty)\n",
    "print(not tail_df[tail_df['high'] > buyside_liquidity['high']].empty)\n",
    "\n",
    "liquidity_levels = [sellside_liquidity['low'], buyside_liquidity['high']]\n",
    "\n",
    "df = df.tail(200)\n",
    "df.set_index(df['time'], inplace=True)\n",
    "\n",
    "price_lines, rsi_lines = detect_divergence(df)\n",
    "\n",
    "rsi_pivot_highs = np.where(df['rsi_pivot_high'], df['rsi'], np.nan)\n",
    "rsi_pivot_lows = np.where(df['rsi_pivot_low'], df['rsi'], np.nan)\n",
    "pivot_highs = np.where(df['pivot_high'], df['high'], np.nan)\n",
    "pivot_lows = np.where(df['pivot_low'], df['low'], np.nan)\n",
    "\n",
    "plots = [\n",
    "    mpf.make_addplot(df['rsi'], panel=1, color='black', fill_between=dict(y1=30, y2=30, color=\"gray\")),\n",
    "    mpf.make_addplot(df['rsi'], panel=1, color='black', fill_between=dict(y1=70, y2=70, color=\"gray\")),\n",
    "    mpf.make_addplot(rsi_pivot_highs, panel=1, color='red', type='scatter'),\n",
    "    mpf.make_addplot(rsi_pivot_lows, panel=1, color='green', type='scatter'),\n",
    "    mpf.make_addplot(pivot_highs, panel=0, color='red', type='scatter'),\n",
    "    mpf.make_addplot(pivot_lows, panel=0, color='green', type='scatter'),\n",
    "]\n",
    "\n",
    "style = mpf.make_mpf_style(base_mpf_style='yahoo', rc={'grid.alpha':0}, figcolor='#fff', facecolor=\"#fff\")\n",
    "_, axs = mpf.plot(\n",
    "    df,\n",
    "    title=symbol,\n",
    "    type='candle',\n",
    "    style=style,\n",
    "    volume=False,\n",
    "    ylabel='',\n",
    "    ylabel_lower='',\n",
    "    datetime_format='',\n",
    "    addplot=plots,\n",
    "    returnfig=True,\n",
    "    alines=dict(alines=price_lines),\n",
    "    hlines=dict(hlines=liquidity_levels, linestyle='--')\n",
    ")\n",
    "\n",
    "rsi_lines = mpf._utils._construct_aline_collections(dict(alines=rsi_lines), df.index)\n",
    "axs[2].add_collection(rsi_lines);"
   ]
  },
  {
   "cell_type": "code",
   "execution_count": null,
   "metadata": {},
   "outputs": [],
   "source": []
  },
  {
   "cell_type": "code",
   "execution_count": 19,
   "metadata": {},
   "outputs": [
    {
     "name": "stdout",
     "output_type": "stream",
     "text": [
      "OrderSendResult(retcode=10009, deal=0, order=45932704, volume=0.1, price=0.0, bid=61221.35, ask=61240.29, comment='', request_id=1567105730, retcode_external=0, request=TradeRequest(action=5, magic=0, order=0, symbol='BTCUSD', volume=0.1, price=61173.45777344083, stoplimit=0.0, sl=61173.45777344083, tp=0.0, deviation=30, type=5, type_filling=1, type_time=0, expiration=0, comment='', position=0, position_by=0))\n",
      "OrderSendResult(retcode=10015, deal=0, order=0, volume=0.0, price=0.0, bid=0.0, ask=0.0, comment='Invalid price', request_id=0, retcode_external=0, request=TradeRequest(action=5, magic=0, order=0, symbol='BTCUSD', volume=0.1, price=61227.002226559176, stoplimit=0.0, sl=61227.002226559176, tp=0.0, deviation=30, type=4, type_filling=1, type_time=0, expiration=0, comment='', position=0, position_by=0))\n"
     ]
    }
   ],
   "source": [
    "symbol = 'BTCUSD'\n",
    "\n",
    "rates = mt5.copy_rates_from_pos(symbol, mt5.TIMEFRAME_M1, 0, 1000)\n",
    "\n",
    "df = pd.DataFrame(rates)\n",
    "df['time'] = pd.to_datetime(df['time'], unit='s')\n",
    "df['atr'] = ta.atr(df['high'], df['low'], df['close'], 14)\n",
    "\n",
    "order_type = mt5.ORDER_TYPE_BUY_STOP\n",
    "# info_tick = mt5.symbol_info_tick(symbol)\n",
    "atr = df['atr'].iloc[-2]\n",
    "close = df['close'].iloc[-2]\n",
    "# entry = 0\n",
    "# stop_loss = 0\n",
    "\n",
    "# match order_type:\n",
    "#     case mt5.ORDER_TYPE_BUY:\n",
    "#         entry = info_tick.ask\n",
    "#         stop_loss = entry - atr * 5\n",
    "#     case mt5.ORDER_TYPE_SELL:\n",
    "#         entry = info_tick.bid\n",
    "#         stop_loss = entry + atr * 5\n",
    "\n",
    "trade_volume = 0.1\n",
    "sell_e = close - atr\n",
    "buy_e = close + atr\n",
    "\n",
    "sl_sell_e = sell_e\n",
    "sl_buy_e = buy_e\n",
    "\n",
    "for e, sl, order in [[sell_e, sl_sell_e, mt5.ORDER_TYPE_SELL_STOP], [buy_e, sl_buy_e, mt5.ORDER_TYPE_BUY_STOP]]:\n",
    "    request = {\n",
    "        \"action\": mt5.TRADE_ACTION_PENDING,\n",
    "        'symbol': symbol,\n",
    "        \"volume\": trade_volume,\n",
    "        \"type\": order,\n",
    "        \"price\": e,\n",
    "        \"sl\": sl,\n",
    "        'deviation': 30,\n",
    "        \"type_time\": mt5.ORDER_TIME_GTC,\n",
    "        \"type_filling\": mt5.ORDER_FILLING_IOC,\n",
    "    }\n",
    "    result = mt5.order_send(request)\n",
    "    print(result)"
   ]
  },
  {
   "cell_type": "code",
   "execution_count": 12,
   "metadata": {},
   "outputs": [
    {
     "data": {
      "text/plain": [
       "(TradePosition(ticket=241787641, time=1724325602, time_msc=1724325602768, time_update=1724325602, time_update_msc=1724325602768, type=1, magic=0, identifier=241787641, reason=3, volume=4.83, price_open=2636.7400000000002, sl=2616.03, tp=2583.0, price_current=2597.92, swap=0.0, profit=187.5, symbol='ETHUSD', comment='', external_id=''),)"
      ]
     },
     "execution_count": 12,
     "metadata": {},
     "output_type": "execute_result"
    }
   ],
   "source": [
    "positions = mt5.positions_get(symbol=\"ETHUSD\")\n",
    "positions\n",
    "\n",
    "# 2616.03"
   ]
  },
  {
   "cell_type": "code",
   "execution_count": 7,
   "metadata": {},
   "outputs": [
    {
     "data": {
      "text/plain": [
       "OrderSendResult(retcode=10009, deal=0, order=0, volume=0.2, price=1.30012, bid=1.3001200000000002, ask=1.3001200000000002, comment='', request_id=2384262769, retcode_external=0, request=TradeRequest(action=6, magic=0, order=0, symbol='', volume=0.0, price=0.0, stoplimit=0.0, sl=1.29835, tp=0.0, deviation=0, type=0, type_filling=0, type_time=0, expiration=0, comment='', position=210024869, position_by=0))"
      ]
     },
     "execution_count": 7,
     "metadata": {},
     "output_type": "execute_result"
    }
   ],
   "source": [
    "request = {\n",
    "    'action': mt5.TRADE_ACTION_SLTP,\n",
    "    'position': positions[0].ticket,\n",
    "    'sl': 1.29835,\n",
    "    'commnet': 'test'\n",
    "}\n",
    "result = mt5.order_send(request)\n",
    "result"
   ]
  },
  {
   "cell_type": "code",
   "execution_count": 9,
   "metadata": {},
   "outputs": [
    {
     "data": {
      "text/plain": [
       "OrderSendResult(retcode=10013, deal=0, order=0, volume=0.0, price=0.0, bid=0.0, ask=0.0, comment='Invalid request', request_id=0, retcode_external=0, request=TradeRequest(action=7, magic=0, order=0, symbol='', volume=0.0, price=0.0, stoplimit=0.0, sl=0.0, tp=0.0, deviation=0, type=0, type_filling=0, type_time=0, expiration=0, comment='', position=210024869, position_by=0))"
      ]
     },
     "execution_count": 9,
     "metadata": {},
     "output_type": "execute_result"
    }
   ],
   "source": [
    "request = {\n",
    "    'action': mt5.TRADE_ACTION_MODIFY,\n",
    "    'position': positions[0].ticket,\n",
    "    # 'sl': 1.29835,\n",
    "    'commnet': 'test'\n",
    "}\n",
    "result = mt5.order_send(request)\n",
    "result"
   ]
  }
 ],
 "metadata": {
  "kernelspec": {
   "display_name": "venv",
   "language": "python",
   "name": "python3"
  },
  "language_info": {
   "codemirror_mode": {
    "name": "ipython",
    "version": 3
   },
   "file_extension": ".py",
   "mimetype": "text/x-python",
   "name": "python",
   "nbconvert_exporter": "python",
   "pygments_lexer": "ipython3",
   "version": "3.10.4"
  }
 },
 "nbformat": 4,
 "nbformat_minor": 2
}
